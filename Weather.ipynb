{
 "cells": [
  {
   "cell_type": "code",
   "execution_count": 1,
   "metadata": {
    "collapsed": true
   },
   "outputs": [],
   "source": [
    "from flask import Flask"
   ]
  },
  {
   "cell_type": "code",
   "execution_count": 2,
   "metadata": {
    "collapsed": true
   },
   "outputs": [],
   "source": [
    "import sys, os\n",
    "import requests # See http://docs.python-requests.org/"
   ]
  },
  {
   "cell_type": "code",
   "execution_count": 3,
   "metadata": {
    "collapsed": true
   },
   "outputs": [],
   "source": [
    "import dateutil.parser as dp"
   ]
  },
  {
   "cell_type": "code",
   "execution_count": 4,
   "metadata": {
    "collapsed": true
   },
   "outputs": [],
   "source": [
    "#Constants\n",
    "client_id = 'here'\n",
    "url = 'https://frost.met.no/observations/v0.jsonld'\n",
    "\n",
    "myElements = ['mean(air_temperature P1D), mean(wind_speed P1D)']\n",
    "mySources = ['SN18700, SN4780, SN50500']\n",
    "getDataFrom = '2018-03-04'\n",
    "getDataTo = '2018-03-05'"
   ]
  },
  {
   "cell_type": "code",
   "execution_count": 26,
   "metadata": {
    "collapsed": true
   },
   "outputs": [],
   "source": [
    "def getObservations(stations, elements, timeInterval):\n",
    "    # issue an HTTP GET request\n",
    "    r = requests.get( url,\n",
    "        {'sources': mySources , 'elements': myElements, 'referencetime': dateString},\n",
    "        auth=(client_id, '')\n",
    "    )\n",
    "    return r\n",
    "\n",
    "def printObservations(observations):\n",
    "    for item in observations:\n",
    "        print(item['elementId'], item['value'])\n",
    "\n",
    "def printStations(req):\n",
    "    #print(r.json()['data'])\n",
    "    for item in r.json()['data']:\n",
    "        iso8601 = item['referenceTime']\n",
    "        printObservations(item['observations'])\n",
    "      "
   ]
  },
  {
   "cell_type": "code",
   "execution_count": 27,
   "metadata": {},
   "outputs": [
    {
     "name": "stdout",
     "output_type": "stream",
     "text": [
      "mean(air_temperature P1D) -6\n",
      "mean(air_temperature P1D) -4.3\n",
      "mean(wind_speed P1D) 1.7\n",
      "mean(air_temperature P1D) -8.1\n",
      "mean(air_temperature P1D) -6.7\n",
      "mean(wind_speed P1D) 0.8\n",
      "mean(air_temperature P1D) -2.6\n",
      "mean(air_temperature P1D) -1.8\n",
      "mean(wind_speed P1D) 1.8\n"
     ]
    }
   ],
   "source": [
    "if __name__ == \"__main__\":\n",
    "    dateString = getDataFrom + '/' + getDataTo\n",
    "    r = getObservations(mySources, myElements, dateString )\n",
    "        \n",
    "    if r.status_code == 200:\n",
    "        printStations(r)\n",
    "    else:\n",
    "        sys.stdout.write('error:\\n')\n",
    "        sys.stdout.write('\\tstatus code: {}\\n'.format(r.status_code))"
   ]
  },
  {
   "cell_type": "code",
   "execution_count": null,
   "metadata": {
    "collapsed": true
   },
   "outputs": [],
   "source": [
    " # extract the time series from the response\n",
    "\n",
    "        #print(dp.parse(iso8601))\n",
    "            #secsSince1970 = dp.parse(iso8601).strftime('%s')\n",
    "            #sys.stdout.write('{} {} {}\\n'.format(iso8601, secsSince1970, item['observations'][0]['value']))\n",
    "\n",
    "if 'error' in r.json():\n",
    "    assert(r.json()['error']['code'] == r.status_code)\n",
    "    sys.stdout.write('\\tmessage: {}\\n'.format(r.json()['error']['message']))\n",
    "    sys.stdout.write('\\treason: {}\\n'.format(r.json()['error']['reason']))\n",
    "else:\n",
    "    sys.stdout.write('\\tother error\\n')"
   ]
  },
  {
   "cell_type": "code",
   "execution_count": null,
   "metadata": {
    "collapsed": true
   },
   "outputs": [],
   "source": [
    "https://frost.met.no/elementtable"
   ]
  },
  {
   "cell_type": "code",
   "execution_count": null,
   "metadata": {
    "collapsed": true
   },
   "outputs": [],
   "source": []
  }
 ],
 "metadata": {
  "kernelspec": {
   "display_name": "Python 3",
   "language": "python",
   "name": "python3"
  },
  "language_info": {
   "codemirror_mode": {
    "name": "ipython",
    "version": 3
   },
   "file_extension": ".py",
   "mimetype": "text/x-python",
   "name": "python",
   "nbconvert_exporter": "python",
   "pygments_lexer": "ipython3",
   "version": "3.6.3"
  }
 },
 "nbformat": 4,
 "nbformat_minor": 2
}
