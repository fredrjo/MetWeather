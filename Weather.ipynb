{
 "cells": [
  {
   "cell_type": "code",
   "execution_count": 1,
   "metadata": {
    "collapsed": true
   },
   "outputs": [],
   "source": [
    "from flask import Flask"
   ]
  },
  {
   "cell_type": "code",
   "execution_count": 2,
   "metadata": {
    "collapsed": true
   },
   "outputs": [],
   "source": [
    "import sys, os\n",
    "import requests # See http://docs.python-requests.org/"
   ]
  },
  {
   "cell_type": "code",
   "execution_count": 3,
   "metadata": {
    "collapsed": true
   },
   "outputs": [],
   "source": [
    "import dateutil.parser as dp"
   ]
  },
  {
   "cell_type": "code",
   "execution_count": 75,
   "metadata": {},
   "outputs": [],
   "source": [
    "myElements = ['mean(air_temperature P1D)']\n",
    "client_id = 'fill in here'\n",
    "url = 'https://frost.met.no/observations/v0.jsonld'\n",
    "mySources = ['SN18700, SN4780, SN50500']\n",
    "getDataFrom = '2018-03-04'\n",
    "getDataTo = '2018-03-05'\n",
    "dateString = getDataFrom + '/' + getDataTo\n",
    "\n",
    "if __name__ == \"__main__\":\n",
    "    \n",
    "    # extract client ID from environment variable\n",
    " #   if not 'CLIENTID' in os.environ:\n",
    " #       sys.stderr.write('error: CLIENTID not found in environment\\n')\n",
    " #       sys.exit(1)\n",
    " #   client_id = os.environ['CLIENTID']\n",
    "\n",
    "    # issue an HTTP GET request\n",
    "    r = requests.get( url\n",
    "        ,\n",
    "        {'sources': mySources , 'elements': myElements, 'referencetime': dateString},\n",
    "        auth=(client_id, '')\n",
    "    )\n",
    "\n",
    "   "
   ]
  },
  {
   "cell_type": "code",
   "execution_count": 76,
   "metadata": {},
   "outputs": [
    {
     "name": "stdout",
     "output_type": "stream",
     "text": [
      "[{'sourceId': 'SN18700:0', 'referenceTime': '2018-03-04T00:00:00.000Z', 'observations': [{'elementId': 'mean(air_temperature P1D)', 'value': -6, 'unit': 'degC', 'level': {'levelType': 'height_above_ground', 'unit': 'm', 'value': 2}, 'timeOffset': 'PT06H', 'timeResolution': 'P1D', 'performanceCategory': 'A', 'exposureCategory': '1', 'qualityCode': 2}, {'elementId': 'mean(air_temperature P1D)', 'value': -4.3, 'unit': 'degC', 'level': {'levelType': 'height_above_ground', 'unit': 'm', 'value': 2}, 'timeOffset': 'PT18H', 'timeResolution': 'P1D', 'performanceCategory': 'A', 'exposureCategory': '1', 'qualityCode': 0}]}, {'sourceId': 'SN4780:0', 'referenceTime': '2018-03-04T00:00:00.000Z', 'observations': [{'elementId': 'mean(air_temperature P1D)', 'value': -8.1, 'unit': 'degC', 'level': {'levelType': 'height_above_ground', 'unit': 'm', 'value': 2}, 'timeOffset': 'PT06H', 'timeResolution': 'P1D', 'performanceCategory': 'A', 'exposureCategory': '1', 'qualityCode': 2}, {'elementId': 'mean(air_temperature P1D)', 'value': -6.7, 'unit': 'degC', 'level': {'levelType': 'height_above_ground', 'unit': 'm', 'value': 2}, 'timeOffset': 'PT18H', 'timeResolution': 'P1D', 'performanceCategory': 'A', 'exposureCategory': '1', 'qualityCode': 0}]}, {'sourceId': 'SN50500:0', 'referenceTime': '2018-03-04T00:00:00.000Z', 'observations': [{'elementId': 'mean(air_temperature P1D)', 'value': -2.6, 'unit': 'degC', 'level': {'levelType': 'height_above_ground', 'unit': 'm', 'value': 2}, 'timeOffset': 'PT06H', 'timeResolution': 'P1D', 'performanceCategory': 'A', 'exposureCategory': '1', 'qualityCode': 2}, {'elementId': 'mean(air_temperature P1D)', 'value': -1.8, 'unit': 'degC', 'level': {'levelType': 'height_above_ground', 'unit': 'm', 'value': 2}, 'timeOffset': 'PT18H', 'timeResolution': 'P1D', 'performanceCategory': 'A', 'exposureCategory': '1', 'qualityCode': 0}]}]\n"
     ]
    }
   ],
   "source": [
    " # extract the time series from the response\n",
    "if r.status_code == 200:\n",
    "    print(r.json()['data'])\n",
    "    for item in r.json()['data']:\n",
    "        iso8601 = item['referenceTime']\n",
    "        #print(dp.parse(iso8601))\n",
    "            #secsSince1970 = dp.parse(iso8601).strftime('%s')\n",
    "            #sys.stdout.write('{} {} {}\\n'.format(iso8601, secsSince1970, item['observations'][0]['value']))\n",
    "else:\n",
    "    sys.stdout.write('error:\\n')\n",
    "    sys.stdout.write('\\tstatus code: {}\\n'.format(r.status_code))\n",
    "    if 'error' in r.json():\n",
    "        assert(r.json()['error']['code'] == r.status_code)\n",
    "        sys.stdout.write('\\tmessage: {}\\n'.format(r.json()['error']['message']))\n",
    "        sys.stdout.write('\\treason: {}\\n'.format(r.json()['error']['reason']))\n",
    "    else:\n",
    "        sys.stdout.write('\\tother error\\n')"
   ]
  },
  {
   "cell_type": "code",
   "execution_count": 54,
   "metadata": {},
   "outputs": [
    {
     "ename": "SyntaxError",
     "evalue": "invalid syntax (<ipython-input-54-12a7d4a5aa16>, line 4)",
     "output_type": "error",
     "traceback": [
      "\u001b[1;36m  File \u001b[1;32m\"<ipython-input-54-12a7d4a5aa16>\"\u001b[1;36m, line \u001b[1;32m4\u001b[0m\n\u001b[1;33m    {'ids': [:]},\u001b[0m\n\u001b[1;37m             ^\u001b[0m\n\u001b[1;31mSyntaxError\u001b[0m\u001b[1;31m:\u001b[0m invalid syntax\n"
     ]
    }
   ],
   "source": [
    " # issue an HTTP GET request\n",
    "r2 = requests.get(\n",
    "    'https://frost.met.no/sources/v0.jsonld',\n",
    "    {'ids': [:]},\n",
    "    auth=(client_id, '')\n",
    ")\n",
    "print(r2)"
   ]
  },
  {
   "cell_type": "code",
   "execution_count": null,
   "metadata": {
    "collapsed": true
   },
   "outputs": [],
   "source": []
  }
 ],
 "metadata": {
  "kernelspec": {
   "display_name": "Python 3",
   "language": "python",
   "name": "python3"
  },
  "language_info": {
   "codemirror_mode": {
    "name": "ipython",
    "version": 3
   },
   "file_extension": ".py",
   "mimetype": "text/x-python",
   "name": "python",
   "nbconvert_exporter": "python",
   "pygments_lexer": "ipython3",
   "version": "3.6.3"
  }
 },
 "nbformat": 4,
 "nbformat_minor": 2
}
