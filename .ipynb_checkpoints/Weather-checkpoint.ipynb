{
 "cells": [
  {
   "cell_type": "code",
   "execution_count": 1,
   "metadata": {},
   "outputs": [],
   "source": [
    "from flask import Flask\n",
    "from flask_restful import Resource, Api"
   ]
  },
  {
   "cell_type": "code",
   "execution_count": 2,
   "metadata": {
    "collapsed": true
   },
   "outputs": [],
   "source": [
    "import sys, os\n",
    "import requests # See http://docs.python-requests.org/"
   ]
  },
  {
   "cell_type": "code",
   "execution_count": 3,
   "metadata": {
    "collapsed": true
   },
   "outputs": [],
   "source": [
    "import dateutil.parser as dp"
   ]
  },
  {
   "cell_type": "code",
   "execution_count": 4,
   "metadata": {
    "collapsed": true
   },
   "outputs": [],
   "source": [
    "#Constants\n",
    "client_id = 'df3e5f22-545a-46d4-aeb3-bfb6b291d3f0'\n",
    "url = 'https://frost.met.no/sources/v0.jsonld?types=SensorSystem&validtime=1900-01-01/2018-01-01'\n",
    "\n",
    "myElements = ['air_temperature, mean(wind_speed P1D)']\n",
    "mySources = ['SN18700, SN4780, SN50500']\n",
    "getDataFrom = '2018-03-04'\n",
    "getDataTo = '2018-03-05'"
   ]
  },
  {
   "cell_type": "code",
   "execution_count": 5,
   "metadata": {
    "collapsed": true
   },
   "outputs": [],
   "source": [
    "def getObservations(stations, elements, timeInterval):\n",
    "    # issue an HTTP GET request\n",
    "    r = requests.get( url,\n",
    "     #   {'sources': mySources , 'elements': myElements, 'referencetime': timeInterval},\n",
    "        auth=(client_id, '')\n",
    "    )\n",
    "    return r\n",
    "\n",
    "def printObservations(observations):\n",
    "    for item in observations:\n",
    "        print(item['elementId'], item['value'])\n",
    "\n",
    "def printStations(req):\n",
    "    #print(r.json()['data'])\n",
    "    for item in r.json()['data']:\n",
    "        iso8601 = item['referenceTime']\n",
    "        printObservations(item['observations'])\n",
    "      "
   ]
  },
  {
   "cell_type": "code",
   "execution_count": 6,
   "metadata": {},
   "outputs": [
    {
     "name": "stderr",
     "output_type": "stream",
     "text": [
      "IOPub data rate exceeded.\n",
      "The notebook server will temporarily stop sending output\n",
      "to the client in order to avoid crashing it.\n",
      "To change this limit, set the config variable\n",
      "`--NotebookApp.iopub_data_rate_limit`.\n"
     ]
    }
   ],
   "source": [
    "if __name__ == \"__main__\":\n",
    "    dateString = getDataFrom + '/' + getDataTo\n",
    "    r = getObservations(mySources, myElements, dateString )\n",
    "        \n",
    "    if r.status_code == 200:\n",
    "        #printStations(r)\n",
    "        print(r.json()['data'])\n",
    "    else:\n",
    "        sys.stdout.write('error:\\n')\n",
    "        sys.stdout.write('\\tstatus code: {}\\n'.format(r.status_code))"
   ]
  },
  {
   "cell_type": "code",
   "execution_count": 7,
   "metadata": {},
   "outputs": [
    {
     "name": "stdout",
     "output_type": "stream",
     "text": [
      "\tother error\n"
     ]
    }
   ],
   "source": [
    " # extract the time series from the response\n",
    "\n",
    "        #print(dp.parse(iso8601))\n",
    "            #secsSince1970 = dp.parse(iso8601).strftime('%s')\n",
    "            #sys.stdout.write('{} {} {}\\n'.format(iso8601, secsSince1970, item['observations'][0]['value']))\n",
    "\n",
    "if 'error' in r.json():\n",
    "    assert(r.json()['error']['code'] == r.status_code)\n",
    "    sys.stdout.write('\\tmessage: {}\\n'.format(r.json()['error']['message']))\n",
    "    sys.stdout.write('\\treason: {}\\n'.format(r.json()['error']['reason']))\n",
    "else:\n",
    "    sys.stdout.write('\\tother error\\n')"
   ]
  },
  {
   "cell_type": "code",
   "execution_count": 8,
   "metadata": {},
   "outputs": [
    {
     "ename": "SyntaxError",
     "evalue": "invalid syntax (<ipython-input-8-3c7d7a58f10f>, line 1)",
     "output_type": "error",
     "traceback": [
      "\u001b[0;36m  File \u001b[0;32m\"<ipython-input-8-3c7d7a58f10f>\"\u001b[0;36m, line \u001b[0;32m1\u001b[0m\n\u001b[0;31m    https://frost.met.no/elementtable\u001b[0m\n\u001b[0m           ^\u001b[0m\n\u001b[0;31mSyntaxError\u001b[0m\u001b[0;31m:\u001b[0m invalid syntax\n"
     ]
    }
   ],
   "source": [
    "#https://frost.met.no/elementtable"
   ]
  },
  {
   "cell_type": "code",
   "execution_count": null,
   "metadata": {
    "collapsed": true
   },
   "outputs": [],
   "source": []
  }
 ],
 "metadata": {
  "kernelspec": {
   "display_name": "Python 3",
   "language": "python",
   "name": "python3"
  },
  "language_info": {
   "codemirror_mode": {
    "name": "ipython",
    "version": 3
   },
   "file_extension": ".py",
   "mimetype": "text/x-python",
   "name": "python",
   "nbconvert_exporter": "python",
   "pygments_lexer": "ipython3",
   "version": "3.6.3"
  }
 },
 "nbformat": 4,
 "nbformat_minor": 2
}
